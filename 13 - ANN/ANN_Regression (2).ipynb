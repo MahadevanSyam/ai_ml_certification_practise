{
 "cells": [
  {
   "cell_type": "code",
   "execution_count": null,
   "metadata": {
    "id": "PnxWwv-MC02O"
   },
   "outputs": [],
   "source": [
    "# import required libraries\n",
    "import pandas as pd\n",
    "import numpy as np"
   ]
  },
  {
   "cell_type": "code",
   "execution_count": null,
   "metadata": {
    "colab": {
     "base_uri": "https://localhost:8080/",
     "height": 206
    },
    "id": "DWxdS8qvQIcY",
    "outputId": "ae14b36c-da1e-42e6-89ef-880f366565b1"
   },
   "outputs": [],
   "source": [
    "# Reading the dataset\n",
    "df = pd.read_csv('50_Startups.csv')\n",
    "df.head()"
   ]
  },
  {
   "cell_type": "code",
   "execution_count": null,
   "metadata": {
    "colab": {
     "base_uri": "https://localhost:8080/"
    },
    "id": "3KmYCJa8QSgL",
    "outputId": "bfade9a9-de09-4534-a2ff-6c7c12b4e7e0"
   },
   "outputs": [],
   "source": [
    "df.shape"
   ]
  },
  {
   "cell_type": "code",
   "execution_count": null,
   "metadata": {
    "colab": {
     "base_uri": "https://localhost:8080/"
    },
    "id": "hWX4BXovQoMw",
    "outputId": "941e1525-c005-4d5b-fda8-413d1a283c3e"
   },
   "outputs": [],
   "source": [
    "df.info()"
   ]
  },
  {
   "cell_type": "code",
   "execution_count": null,
   "metadata": {
    "colab": {
     "base_uri": "https://localhost:8080/"
    },
    "id": "rcn1ltqXQrOX",
    "outputId": "938a3c65-42a7-4b4d-f952-ca68fc78fe3e"
   },
   "outputs": [],
   "source": [
    "df.isnull().sum()"
   ]
  },
  {
   "cell_type": "code",
   "execution_count": null,
   "metadata": {
    "colab": {
     "base_uri": "https://localhost:8080/",
     "height": 206
    },
    "id": "2tHtN5FtQysH",
    "outputId": "909743db-2a38-4362-e34f-994aaec09ac5"
   },
   "outputs": [],
   "source": [
    "df.head()"
   ]
  },
  {
   "cell_type": "code",
   "execution_count": null,
   "metadata": {
    "id": "uNAO4JKuQ3Rz"
   },
   "outputs": [],
   "source": [
    "from sklearn.preprocessing import LabelEncoder\n",
    "le =LabelEncoder()"
   ]
  },
  {
   "cell_type": "code",
   "execution_count": null,
   "metadata": {
    "id": "orNiSr0oRA3t"
   },
   "outputs": [],
   "source": [
    "df['State'] = le.fit_transform(df.State)"
   ]
  },
  {
   "cell_type": "code",
   "execution_count": null,
   "metadata": {
    "colab": {
     "base_uri": "https://localhost:8080/",
     "height": 206
    },
    "id": "eqVKFJq5RMSc",
    "outputId": "9e5cb9f2-1716-4148-cac0-d7d9170cabf9"
   },
   "outputs": [],
   "source": [
    "df.head()"
   ]
  },
  {
   "cell_type": "code",
   "execution_count": null,
   "metadata": {
    "id": "Qwqjqve9RN3s"
   },
   "outputs": [],
   "source": [
    "X =df.iloc[:,:-1].values"
   ]
  },
  {
   "cell_type": "code",
   "execution_count": null,
   "metadata": {
    "id": "-RBOhfrNRcCj"
   },
   "outputs": [],
   "source": [
    "y= df.iloc[:,4:5].values"
   ]
  },
  {
   "cell_type": "code",
   "execution_count": null,
   "metadata": {
    "id": "oQDWKsPWRiyw"
   },
   "outputs": [],
   "source": [
    "from sklearn.model_selection import train_test_split\n",
    "x_train,x_test,y_train,y_test = train_test_split(X,y,test_size=0.3,random_state=0)"
   ]
  },
  {
   "cell_type": "code",
   "execution_count": null,
   "metadata": {
    "colab": {
     "base_uri": "https://localhost:8080/"
    },
    "id": "iivT4GuoSXds",
    "outputId": "34bfaa07-3b2d-470a-8fae-7bc1cb580141"
   },
   "outputs": [],
   "source": [
    "x_train.shape, x_test.shape"
   ]
  },
  {
   "cell_type": "code",
   "execution_count": null,
   "metadata": {
    "id": "peL2UevCSXf2"
   },
   "outputs": [],
   "source": [
    "from tensorflow.keras.models import Sequential\n",
    "from tensorflow.keras.layers import Dense"
   ]
  },
  {
   "cell_type": "code",
   "execution_count": null,
   "metadata": {
    "id": "1eX2Cc2HSXjQ"
   },
   "outputs": [],
   "source": [
    "# creating ANN skeleton\n",
    "\n",
    "regressor = Sequential()\n",
    "regressor.add(Dense(4,activation='relu'))# input layer\n",
    "regressor.add(Dense(8,activation='relu')) # first Hidden layer\n",
    "regressor.add(Dense(16,activation='relu')) # 2nd Hidden layer\n",
    "regressor.add(Dense(1,activation='linear')) # Output Layer\n"
   ]
  },
  {
   "cell_type": "code",
   "execution_count": null,
   "metadata": {
    "id": "h5iTesGkT7oD"
   },
   "outputs": [],
   "source": [
    "# Compiling ANN model\n",
    "\n",
    "regressor.compile(optimizer='adam',loss ='mse',metrics=['mse'] )\n"
   ]
  },
  {
   "cell_type": "code",
   "execution_count": null,
   "metadata": {
    "colab": {
     "base_uri": "https://localhost:8080/"
    },
    "id": "YrUBkA3lT7un",
    "outputId": "30b2e2fe-7e38-47d3-c3aa-7fd52a631f01"
   },
   "outputs": [],
   "source": [
    "# training the model\n",
    "regressor.fit(x_train,y_train,batch_size=10,epochs =300)\n"
   ]
  },
  {
   "cell_type": "code",
   "execution_count": null,
   "metadata": {
    "colab": {
     "base_uri": "https://localhost:8080/"
    },
    "id": "NJQhaspHT7xR",
    "outputId": "5264c18a-2dea-4949-911a-47aa0e0cc8a9"
   },
   "outputs": [],
   "source": [
    "# testing the model\n",
    "\n",
    "y_pred = regressor.predict(x_test)\n"
   ]
  },
  {
   "cell_type": "code",
   "execution_count": null,
   "metadata": {
    "colab": {
     "base_uri": "https://localhost:8080/"
    },
    "id": "gdCBe406T70v",
    "outputId": "2dffc300-109b-490d-b553-cbbdf3260961"
   },
   "outputs": [],
   "source": [
    "y_pred"
   ]
  },
  {
   "cell_type": "code",
   "execution_count": null,
   "metadata": {
    "id": "bAFZgb_-VIkM"
   },
   "outputs": [],
   "source": [
    "from sklearn.metrics import r2_score"
   ]
  },
  {
   "cell_type": "code",
   "execution_count": null,
   "metadata": {
    "colab": {
     "base_uri": "https://localhost:8080/"
    },
    "id": "U-gLNe6WVRcc",
    "outputId": "783064e1-a3e7-4b64-da69-294afb5046df"
   },
   "outputs": [],
   "source": [
    "# evaluating the model with r2 score\n",
    "\n",
    "r2_score(y_test,y_pred)"
   ]
  },
  {
   "cell_type": "code",
   "execution_count": null,
   "metadata": {
    "colab": {
     "base_uri": "https://localhost:8080/"
    },
    "id": "n9Vzq1mfWPDT",
    "outputId": "f9a5ff03-e50a-47a4-ffa6-2ecfe41bf84b"
   },
   "outputs": [],
   "source": [
    "y_pred.flatten()"
   ]
  },
  {
   "cell_type": "code",
   "execution_count": null,
   "metadata": {
    "colab": {
     "base_uri": "https://localhost:8080/",
     "height": 362
    },
    "id": "Rlk7hgm2VwuL",
    "outputId": "ec5b6920-c2aa-41f8-d360-79bd18a4b6cb"
   },
   "outputs": [],
   "source": [
    "# Comparing the actual and predicted y values\n",
    "\n",
    "pd.DataFrame({'Actual y_value':y_test.flatten(),'Predicted y_value':y_pred.flatten()}).head(10)"
   ]
  },
  {
   "cell_type": "code",
   "execution_count": null,
   "metadata": {
    "colab": {
     "base_uri": "https://localhost:8080/",
     "height": 206
    },
    "id": "KhgBkyysWt0b",
    "outputId": "b8c0810a-f8b5-459c-efe6-6f8769f5fcf5"
   },
   "outputs": [],
   "source": [
    "df.head()"
   ]
  },
  {
   "cell_type": "code",
   "execution_count": null,
   "metadata": {},
   "outputs": [],
   "source": [
    "inputx=np.array([[142107.34,91391.77,366168.42 ,1]])"
   ]
  },
  {
   "cell_type": "code",
   "execution_count": null,
   "metadata": {
    "colab": {
     "base_uri": "https://localhost:8080/"
    },
    "id": "9wVMR1HbWLTx",
    "outputId": "c53e9b7b-1188-4097-e9e5-ef82f1dba75c"
   },
   "outputs": [],
   "source": [
    "# testing with random values\n",
    "\n",
    "regressor.predict(inputx)"
   ]
  },
  {
   "cell_type": "code",
   "execution_count": null,
   "metadata": {},
   "outputs": [],
   "source": []
  }
 ],
 "metadata": {
  "colab": {
   "provenance": []
  },
  "kernelspec": {
   "display_name": "Python 3 (ipykernel)",
   "language": "python",
   "name": "python3"
  },
  "language_info": {
   "codemirror_mode": {
    "name": "ipython",
    "version": 3
   },
   "file_extension": ".py",
   "mimetype": "text/x-python",
   "name": "python",
   "nbconvert_exporter": "python",
   "pygments_lexer": "ipython3",
   "version": "3.12.1"
  }
 },
 "nbformat": 4,
 "nbformat_minor": 4
}
