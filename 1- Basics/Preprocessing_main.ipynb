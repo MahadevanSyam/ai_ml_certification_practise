{
 "cells": [
  {
   "cell_type": "markdown",
   "id": "671e5503",
   "metadata": {},
   "source": [
    "# Data Preprocessing / Data Wrangling"
   ]
  },
  {
   "cell_type": "code",
   "execution_count": null,
   "id": "003ed2ca",
   "metadata": {},
   "outputs": [],
   "source": [
    "# Import the required libraries\n",
    "import numpy as np\n",
    "import pandas as pd\n",
    "import matplotlib.pyplot as plt\n",
    "import seaborn as sns"
   ]
  },
  {
   "cell_type": "code",
   "execution_count": null,
   "id": "c20def17",
   "metadata": {},
   "outputs": [],
   "source": [
    "pwd  #present working directory"
   ]
  },
  {
   "cell_type": "code",
   "execution_count": null,
   "id": "a98564b1",
   "metadata": {},
   "outputs": [],
   "source": [
    "#load the dataset\n",
    "data=pd.read_csv('insurance.csv')"
   ]
  },
  {
   "cell_type": "code",
   "execution_count": null,
   "id": "e466a113",
   "metadata": {},
   "outputs": [],
   "source": [
    "data.head()"
   ]
  },
  {
   "cell_type": "code",
   "execution_count": null,
   "id": "909558eb",
   "metadata": {},
   "outputs": [],
   "source": [
    "data.tail()"
   ]
  },
  {
   "cell_type": "code",
   "execution_count": null,
   "id": "1f2c421a",
   "metadata": {},
   "outputs": [],
   "source": [
    "# checking dataset size\n",
    "data.shape"
   ]
  },
  {
   "cell_type": "code",
   "execution_count": null,
   "id": "d6405ce7",
   "metadata": {},
   "outputs": [],
   "source": [
    "# Checking the datatype of the parameter(columns)\n",
    "data.info()"
   ]
  },
  {
   "cell_type": "code",
   "execution_count": null,
   "id": "d816e41b",
   "metadata": {},
   "outputs": [],
   "source": [
    "#To Know Column names\n",
    "data.columns"
   ]
  },
  {
   "cell_type": "code",
   "execution_count": null,
   "id": "76d4ea95",
   "metadata": {},
   "outputs": [],
   "source": [
    "#Statistical Analysis/Descriptive Statistics\n",
    "data.describe()"
   ]
  },
  {
   "cell_type": "code",
   "execution_count": null,
   "id": "3d74f939",
   "metadata": {},
   "outputs": [],
   "source": [
    "#data.select_dtypes(include='number').mean()"
   ]
  },
  {
   "cell_type": "code",
   "execution_count": null,
   "id": "e0172b7f",
   "metadata": {},
   "outputs": [],
   "source": [
    "data.head()"
   ]
  },
  {
   "cell_type": "code",
   "execution_count": null,
   "id": "38e46d7e",
   "metadata": {},
   "outputs": [],
   "source": [
    "#Checking the null values in the dataset\n",
    "data.isna()"
   ]
  },
  {
   "cell_type": "code",
   "execution_count": null,
   "id": "c671035b",
   "metadata": {},
   "outputs": [],
   "source": [
    "data.isnull().any()"
   ]
  },
  {
   "cell_type": "code",
   "execution_count": null,
   "id": "d96b5111",
   "metadata": {},
   "outputs": [],
   "source": [
    "data.isna().sum()"
   ]
  },
  {
   "cell_type": "code",
   "execution_count": null,
   "id": "c5b4fe78",
   "metadata": {},
   "outputs": [],
   "source": [
    "data.isnull()"
   ]
  },
  {
   "cell_type": "code",
   "execution_count": null,
   "id": "9e9ba00f",
   "metadata": {},
   "outputs": [],
   "source": [
    "data.isnull().sum()"
   ]
  },
  {
   "cell_type": "code",
   "execution_count": null,
   "id": "0c989107",
   "metadata": {},
   "outputs": [],
   "source": [
    "# If we have null values in Numerical column we will replace it with mean or median\n",
    "# If we have null values in Categorical column we will replace it with mode"
   ]
  },
  {
   "cell_type": "code",
   "execution_count": null,
   "id": "39373b59-8d2e-45a9-9bb9-86afcab7779a",
   "metadata": {},
   "outputs": [],
   "source": [
    "#data.fillna({'age':data['age'].mean()},inplace=True)"
   ]
  },
  {
   "cell_type": "code",
   "execution_count": null,
   "id": "df082f45",
   "metadata": {
    "scrolled": true
   },
   "outputs": [],
   "source": [
    "# incase age colum has missing value we will use below code\n",
    "data['age'].fillna(data['age'].mean(), inplace=True)"
   ]
  },
  {
   "cell_type": "code",
   "execution_count": null,
   "id": "3fe61a1e",
   "metadata": {},
   "outputs": [],
   "source": [
    "#Checking the value counts for categorical Column\n",
    "data.region.value_counts()\n",
    "\n"
   ]
  },
  {
   "cell_type": "code",
   "execution_count": null,
   "id": "5d321316",
   "metadata": {},
   "outputs": [],
   "source": [
    "data.sex.value_counts()"
   ]
  },
  {
   "cell_type": "code",
   "execution_count": null,
   "id": "9aca2957",
   "metadata": {},
   "outputs": [],
   "source": [
    "data['smoker'].value_counts()"
   ]
  },
  {
   "cell_type": "markdown",
   "id": "5d49a47d",
   "metadata": {},
   "source": [
    "# Data Visualization"
   ]
  },
  {
   "cell_type": "code",
   "execution_count": null,
   "id": "55c0a131",
   "metadata": {
    "scrolled": true
   },
   "outputs": [],
   "source": [
    "sns.distplot(data['age'])"
   ]
  },
  {
   "cell_type": "code",
   "execution_count": null,
   "id": "bc366527-6a4f-4ad4-b34a-af30bd45c424",
   "metadata": {},
   "outputs": [],
   "source": [
    "sns.distplot(data['charges'])"
   ]
  },
  {
   "cell_type": "code",
   "execution_count": null,
   "id": "cefe51f3-c4b0-4b80-ab77-3c4e3bcd3db2",
   "metadata": {},
   "outputs": [],
   "source": [
    "sns.boxplot(data['charges'], orient='h')"
   ]
  },
  {
   "cell_type": "code",
   "execution_count": null,
   "id": "412ac9e6-f4ab-4a55-af00-5a1f13a9dccc",
   "metadata": {},
   "outputs": [],
   "source": [
    "#finding IQR\n",
    "Q1 = data['charges'].quantile(0.25)\n",
    "Q3 = data['charges'].quantile(0.75)"
   ]
  },
  {
   "cell_type": "code",
   "execution_count": null,
   "id": "adf3518b-fb2c-42d0-8c90-7119ffe54e11",
   "metadata": {},
   "outputs": [],
   "source": [
    "Q3"
   ]
  },
  {
   "cell_type": "code",
   "execution_count": null,
   "id": "d548d22d-978b-4f3d-a063-3a3ad76d68ac",
   "metadata": {},
   "outputs": [],
   "source": [
    "IQR=Q3-Q1\n",
    "IQR"
   ]
  },
  {
   "cell_type": "code",
   "execution_count": null,
   "id": "360dd8e5-9c68-4593-bee3-60d456f1b375",
   "metadata": {},
   "outputs": [],
   "source": [
    "lower_limit = Q1 - 1.5 * IQR\n",
    "upper_limit = Q3 + 1.5 * IQR"
   ]
  },
  {
   "cell_type": "code",
   "execution_count": null,
   "id": "69a23a9c-0a02-446e-ad2f-be4d09399838",
   "metadata": {},
   "outputs": [],
   "source": [
    "print('lower_limit: ',lower_limit)\n",
    "print('upper_limit: ',upper_limit)"
   ]
  },
  {
   "cell_type": "code",
   "execution_count": null,
   "id": "1e58d03f-ba95-41a9-8da6-0345b2cb0a90",
   "metadata": {},
   "outputs": [],
   "source": [
    "data[(data.charges<lower_limit)|(data.charges>upper_limit)]"
   ]
  },
  {
   "cell_type": "code",
   "execution_count": null,
   "id": "8a59395f-b621-46ca-80d2-4f2f74024d20",
   "metadata": {},
   "outputs": [],
   "source": [
    "#Removing Outliers: \n",
    "data_new = data[(data.charges>lower_limit)&(data.charges<upper_limit)]\n",
    "data_new"
   ]
  },
  {
   "cell_type": "code",
   "execution_count": null,
   "id": "0b53e344-fb07-4436-b743-294bafb99959",
   "metadata": {},
   "outputs": [],
   "source": [
    "data_new.shape"
   ]
  },
  {
   "cell_type": "code",
   "execution_count": null,
   "id": "065d31a1-d906-481d-9740-d9f29ad486b5",
   "metadata": {},
   "outputs": [],
   "source": [
    "data_new[data_new['charges']>upper_limit]"
   ]
  },
  {
   "cell_type": "code",
   "execution_count": null,
   "id": "10bc73fc-c0be-403a-94e4-7e6fbe5de7eb",
   "metadata": {
    "scrolled": true
   },
   "outputs": [],
   "source": [
    "sns.boxplot(data_new['charges'], orient='h')"
   ]
  },
  {
   "cell_type": "code",
   "execution_count": null,
   "id": "f67270d7-9b48-49f1-8a16-020b40b4d0e1",
   "metadata": {
    "scrolled": true
   },
   "outputs": [],
   "source": [
    "upper_limit"
   ]
  },
  {
   "cell_type": "code",
   "execution_count": null,
   "id": "1aa4010c-b943-4573-b800-b6389569a117",
   "metadata": {},
   "outputs": [],
   "source": [
    "lower_limit"
   ]
  },
  {
   "cell_type": "code",
   "execution_count": null,
   "id": "4ebe4041-5318-4509-94ae-77fa9456b0d8",
   "metadata": {
    "scrolled": true
   },
   "outputs": [],
   "source": [
    "sns.boxplot(data=data_new['charges'], orient='h',whis=3)"
   ]
  },
  {
   "cell_type": "code",
   "execution_count": null,
   "id": "9a0c5152",
   "metadata": {
    "scrolled": true
   },
   "outputs": [],
   "source": [
    "sns.lineplot(x='age',y='charges', data=data_new)"
   ]
  },
  {
   "cell_type": "code",
   "execution_count": null,
   "id": "669b2a98",
   "metadata": {},
   "outputs": [],
   "source": [
    "data.smoker.value_counts()"
   ]
  },
  {
   "cell_type": "code",
   "execution_count": null,
   "id": "78763323",
   "metadata": {},
   "outputs": [],
   "source": [
    "plt.pie(data.smoker.value_counts(),colors=['green','red'], labels=['No','Yes'],autopct='%.2f%%')\n",
    "plt.title('Smoker')"
   ]
  },
  {
   "cell_type": "code",
   "execution_count": null,
   "id": "a64fd0a4",
   "metadata": {},
   "outputs": [],
   "source": [
    "sns.scatterplot(x=data.age,y=data.charges)\n",
    "plt.title('Age/Charges')"
   ]
  },
  {
   "cell_type": "code",
   "execution_count": null,
   "id": "7b0a2a4b",
   "metadata": {},
   "outputs": [],
   "source": [
    "data.hist(figsize=(10,8))"
   ]
  },
  {
   "cell_type": "code",
   "execution_count": null,
   "id": "7045791f-5337-4192-8eff-03824ea40d8b",
   "metadata": {},
   "outputs": [],
   "source": [
    "data_new"
   ]
  },
  {
   "cell_type": "code",
   "execution_count": null,
   "id": "c9547bde-835f-4b1a-aa62-340409db20de",
   "metadata": {},
   "outputs": [],
   "source": [
    "data=data_new.copy()  # To create a copy "
   ]
  },
  {
   "cell_type": "code",
   "execution_count": null,
   "id": "9d6de2b7-898a-4aaa-820e-5ced2d77877a",
   "metadata": {},
   "outputs": [],
   "source": [
    "print(data_new.shape)\n",
    "print(data.shape)"
   ]
  },
  {
   "cell_type": "markdown",
   "id": "157a8db0",
   "metadata": {},
   "source": [
    "# Encoding Techniques"
   ]
  },
  {
   "cell_type": "code",
   "execution_count": null,
   "id": "d1e209e0",
   "metadata": {},
   "outputs": [],
   "source": [
    "data.head()"
   ]
  },
  {
   "cell_type": "code",
   "execution_count": null,
   "id": "9ad1a7d0-d40b-40c2-b8ed-e970ff5a4820",
   "metadata": {},
   "outputs": [],
   "source": [
    "pip install scikit-learn"
   ]
  },
  {
   "cell_type": "markdown",
   "id": "22f59816",
   "metadata": {},
   "source": [
    "# Label Encoding"
   ]
  },
  {
   "cell_type": "code",
   "execution_count": null,
   "id": "f1359a27",
   "metadata": {},
   "outputs": [],
   "source": [
    "from sklearn.preprocessing import LabelEncoder"
   ]
  },
  {
   "cell_type": "code",
   "execution_count": null,
   "id": "bb8f6247",
   "metadata": {},
   "outputs": [],
   "source": [
    "le=LabelEncoder()"
   ]
  },
  {
   "cell_type": "code",
   "execution_count": null,
   "id": "34b4d827",
   "metadata": {},
   "outputs": [],
   "source": [
    "data.sex=le.fit_transform(data.sex)"
   ]
  },
  {
   "cell_type": "code",
   "execution_count": null,
   "id": "bef226c8",
   "metadata": {},
   "outputs": [],
   "source": [
    "data.head()"
   ]
  },
  {
   "cell_type": "code",
   "execution_count": null,
   "id": "2b3e0d5e",
   "metadata": {},
   "outputs": [],
   "source": [
    "data.smoker=le.fit_transform(data.smoker)"
   ]
  },
  {
   "cell_type": "code",
   "execution_count": null,
   "id": "80136ca8",
   "metadata": {},
   "outputs": [],
   "source": [
    "data.head()"
   ]
  },
  {
   "cell_type": "markdown",
   "id": "cf4a10a2",
   "metadata": {},
   "source": [
    "# One Hot Encoding"
   ]
  },
  {
   "cell_type": "code",
   "execution_count": null,
   "id": "579c367b-d4ae-493e-bd78-e928ac47260e",
   "metadata": {},
   "outputs": [],
   "source": [
    "from sklearn.preprocessing import OneHotEncoder"
   ]
  },
  {
   "cell_type": "code",
   "execution_count": null,
   "id": "bcc6e91d",
   "metadata": {},
   "outputs": [],
   "source": [
    "data_min=pd.get_dummies(data,columns=['region'],dtype=int)"
   ]
  },
  {
   "cell_type": "code",
   "execution_count": null,
   "id": "e12a75a3",
   "metadata": {},
   "outputs": [],
   "source": [
    "data_min.head()"
   ]
  },
  {
   "cell_type": "markdown",
   "id": "a3672152",
   "metadata": {},
   "source": [
    "# Correlation"
   ]
  },
  {
   "cell_type": "code",
   "execution_count": null,
   "id": "39c8a09d",
   "metadata": {},
   "outputs": [],
   "source": [
    "data_min.corr()"
   ]
  },
  {
   "cell_type": "markdown",
   "id": "df6538d8",
   "metadata": {},
   "source": [
    "# Heatmap"
   ]
  },
  {
   "cell_type": "code",
   "execution_count": null,
   "id": "24e8362f",
   "metadata": {},
   "outputs": [],
   "source": [
    "plt.figure(figsize=(10,8))\n",
    "sns.heatmap(data_min.corr(),annot=True)"
   ]
  },
  {
   "cell_type": "code",
   "execution_count": null,
   "id": "0063a792",
   "metadata": {},
   "outputs": [],
   "source": [
    "data_min.head()"
   ]
  },
  {
   "cell_type": "markdown",
   "id": "6875d5f4",
   "metadata": {},
   "source": [
    "# X and Y Split"
   ]
  },
  {
   "cell_type": "code",
   "execution_count": null,
   "id": "36f93a28",
   "metadata": {},
   "outputs": [],
   "source": [
    "# Y is dependent variable(target)"
   ]
  },
  {
   "cell_type": "code",
   "execution_count": null,
   "id": "ae83d8c8",
   "metadata": {},
   "outputs": [],
   "source": [
    "y=data_min['charges']"
   ]
  },
  {
   "cell_type": "code",
   "execution_count": null,
   "id": "50fc986f",
   "metadata": {},
   "outputs": [],
   "source": [
    "y.head()"
   ]
  },
  {
   "cell_type": "code",
   "execution_count": null,
   "id": "37bfaa11",
   "metadata": {},
   "outputs": [],
   "source": [
    "# X is Independent variable or predictors\n",
    "X=data_min.drop(columns=['charges'],axis=1)"
   ]
  },
  {
   "cell_type": "code",
   "execution_count": null,
   "id": "ed36d595",
   "metadata": {},
   "outputs": [],
   "source": [
    "X.head()"
   ]
  },
  {
   "cell_type": "markdown",
   "id": "ae90cea2",
   "metadata": {},
   "source": [
    "# Scaling"
   ]
  },
  {
   "cell_type": "code",
   "execution_count": null,
   "id": "87df3ef0",
   "metadata": {},
   "outputs": [],
   "source": [
    "# Standard Scaling  -mean=0 and Std=1\n",
    "# Minmax Scaling ....values after scaling are between 0 and 1"
   ]
  },
  {
   "cell_type": "code",
   "execution_count": null,
   "id": "39452265",
   "metadata": {},
   "outputs": [],
   "source": [
    "names=X.columns"
   ]
  },
  {
   "cell_type": "code",
   "execution_count": null,
   "id": "203c5076",
   "metadata": {},
   "outputs": [],
   "source": [
    "names"
   ]
  },
  {
   "cell_type": "code",
   "execution_count": null,
   "id": "8d3c7b07",
   "metadata": {},
   "outputs": [],
   "source": [
    "from sklearn.preprocessing import MinMaxScaler"
   ]
  },
  {
   "cell_type": "code",
   "execution_count": null,
   "id": "b3db0be7",
   "metadata": {},
   "outputs": [],
   "source": [
    "scale=MinMaxScaler()"
   ]
  },
  {
   "cell_type": "code",
   "execution_count": null,
   "id": "8c5258e4",
   "metadata": {},
   "outputs": [],
   "source": [
    "X_scaled=scale.fit_transform(X)"
   ]
  },
  {
   "cell_type": "code",
   "execution_count": null,
   "id": "c36175b1",
   "metadata": {},
   "outputs": [],
   "source": [
    "X_scaled"
   ]
  },
  {
   "cell_type": "code",
   "execution_count": null,
   "id": "be80a0fc",
   "metadata": {},
   "outputs": [],
   "source": [
    "X=pd.DataFrame(X_scaled, columns=names)"
   ]
  },
  {
   "cell_type": "code",
   "execution_count": null,
   "id": "7525a52a",
   "metadata": {},
   "outputs": [],
   "source": [
    "X.head()"
   ]
  },
  {
   "cell_type": "code",
   "execution_count": null,
   "id": "46c0d6b2",
   "metadata": {},
   "outputs": [],
   "source": [
    "from  sklearn.model_selection import train_test_split"
   ]
  },
  {
   "cell_type": "code",
   "execution_count": null,
   "id": "fd88778f",
   "metadata": {},
   "outputs": [],
   "source": [
    "X_train,X_test,y_train,y_test=train_test_split(X,y,test_size=0.2,random_state=0)"
   ]
  },
  {
   "cell_type": "code",
   "execution_count": null,
   "id": "61d07da3",
   "metadata": {},
   "outputs": [],
   "source": [
    "X_train.head()"
   ]
  },
  {
   "cell_type": "code",
   "execution_count": null,
   "id": "7af49a75",
   "metadata": {},
   "outputs": [],
   "source": [
    "X_test.head()"
   ]
  },
  {
   "cell_type": "code",
   "execution_count": null,
   "id": "19197fcc",
   "metadata": {},
   "outputs": [],
   "source": [
    "y_train"
   ]
  },
  {
   "cell_type": "code",
   "execution_count": null,
   "id": "21db9b06",
   "metadata": {},
   "outputs": [],
   "source": [
    "y_test"
   ]
  },
  {
   "cell_type": "code",
   "execution_count": null,
   "id": "bb6c6b1b",
   "metadata": {},
   "outputs": [],
   "source": []
  },
  {
   "cell_type": "code",
   "execution_count": null,
   "id": "15aac2d4",
   "metadata": {},
   "outputs": [],
   "source": []
  },
  {
   "cell_type": "code",
   "execution_count": null,
   "id": "1c1f8ab8",
   "metadata": {},
   "outputs": [],
   "source": []
  }
 ],
 "metadata": {
  "kernelspec": {
   "display_name": "Python 3 (ipykernel)",
   "language": "python",
   "name": "python3"
  },
  "language_info": {
   "codemirror_mode": {
    "name": "ipython",
    "version": 3
   },
   "file_extension": ".py",
   "mimetype": "text/x-python",
   "name": "python",
   "nbconvert_exporter": "python",
   "pygments_lexer": "ipython3",
   "version": "3.12.1"
  }
 },
 "nbformat": 4,
 "nbformat_minor": 5
}
