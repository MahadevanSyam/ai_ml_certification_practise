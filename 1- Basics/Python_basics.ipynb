{
 "cells": [
  {
   "cell_type": "code",
   "execution_count": null,
   "id": "3aebac67-f904-4bac-a449-6001dcfbfe2d",
   "metadata": {},
   "outputs": [],
   "source": []
  },
  {
   "cell_type": "code",
   "execution_count": null,
   "id": "389ef0d1-b057-44f3-877c-cafba344dd4e",
   "metadata": {},
   "outputs": [],
   "source": []
  },
  {
   "cell_type": "code",
   "execution_count": null,
   "id": "0a8e9df6-36fa-43e3-98ec-ff057a6d6612",
   "metadata": {},
   "outputs": [],
   "source": []
  },
  {
   "cell_type": "code",
   "execution_count": null,
   "id": "459bf556-330c-45a2-8293-4219542ea817",
   "metadata": {},
   "outputs": [],
   "source": [
    "# Heading"
   ]
  },
  {
   "cell_type": "markdown",
   "id": "ae158b7d-caa0-4615-b143-c230bcf14c93",
   "metadata": {},
   "source": [
    "## Heading\n"
   ]
  },
  {
   "cell_type": "markdown",
   "id": "0f76dbd6",
   "metadata": {},
   "source": [
    "### Heading"
   ]
  },
  {
   "cell_type": "markdown",
   "id": "41d38c97",
   "metadata": {},
   "source": [
    "#### Heading"
   ]
  },
  {
   "cell_type": "markdown",
   "id": "41973708",
   "metadata": {},
   "source": [
    "##### Heading"
   ]
  },
  {
   "cell_type": "markdown",
   "id": "bf2d7ec5-2090-4023-8d76-f6c6245e3117",
   "metadata": {},
   "source": [
    "###### Heading"
   ]
  },
  {
   "cell_type": "code",
   "execution_count": 2,
   "id": "c709b07d",
   "metadata": {
    "scrolled": true
   },
   "outputs": [
    {
     "name": "stdout",
     "output_type": "stream",
     "text": [
      "Hello World\n"
     ]
    }
   ],
   "source": [
    "print('Hello World')"
   ]
  },
  {
   "cell_type": "code",
   "execution_count": 3,
   "id": "729a74c2",
   "metadata": {},
   "outputs": [
    {
     "name": "stdout",
     "output_type": "stream",
     "text": [
      "Indra Prakash\n"
     ]
    }
   ],
   "source": [
    "print(\"Indra Prakash\")"
   ]
  },
  {
   "cell_type": "code",
   "execution_count": 6,
   "id": "d582f2db",
   "metadata": {},
   "outputs": [
    {
     "name": "stdout",
     "output_type": "stream",
     "text": [
      "Name:Raju , Age:25\n"
     ]
    }
   ],
   "source": [
    "# String formating\n",
    "name= 'Raju'\n",
    "age=25\n",
    "print(\"Name:{} , Age:{}\".format(name,age))"
   ]
  },
  {
   "cell_type": "code",
   "execution_count": 9,
   "id": "7a0182c2",
   "metadata": {},
   "outputs": [
    {
     "name": "stdout",
     "output_type": "stream",
     "text": [
      "India America Russia Srilanka\n"
     ]
    }
   ],
   "source": [
    "print('India','America','Russia','Srilanka')"
   ]
  },
  {
   "cell_type": "code",
   "execution_count": 10,
   "id": "5abc88f8",
   "metadata": {},
   "outputs": [
    {
     "name": "stdout",
     "output_type": "stream",
     "text": [
      "India,America,Russia,Srilanka\n"
     ]
    }
   ],
   "source": [
    "print('India','America','Russia','Srilanka',sep=',')"
   ]
  },
  {
   "cell_type": "code",
   "execution_count": 11,
   "id": "19768ecc",
   "metadata": {},
   "outputs": [
    {
     "name": "stdout",
     "output_type": "stream",
     "text": [
      "India/America/Russia/Srilanka\n"
     ]
    }
   ],
   "source": [
    "print('India','America','Russia','Srilanka',sep='/')"
   ]
  },
  {
   "cell_type": "code",
   "execution_count": 12,
   "id": "52cbb1d4",
   "metadata": {},
   "outputs": [
    {
     "name": "stdout",
     "output_type": "stream",
     "text": [
      "India-America-Russia-Srilanka\n"
     ]
    }
   ],
   "source": [
    "print('India','America','Russia','Srilanka',sep='-')"
   ]
  },
  {
   "cell_type": "code",
   "execution_count": 13,
   "id": "24ac2692",
   "metadata": {},
   "outputs": [
    {
     "name": "stdout",
     "output_type": "stream",
     "text": [
      "India*America*Russia*Srilanka\n"
     ]
    }
   ],
   "source": [
    "print('India','America','Russia','Srilanka',sep='*')"
   ]
  },
  {
   "cell_type": "code",
   "execution_count": 14,
   "id": "dfa7f680",
   "metadata": {},
   "outputs": [
    {
     "name": "stdout",
     "output_type": "stream",
     "text": [
      "Hello\n",
      "Raj\n"
     ]
    }
   ],
   "source": [
    "print('Hello')\n",
    "print('Raj')"
   ]
  },
  {
   "cell_type": "code",
   "execution_count": 15,
   "id": "4d1ae1f1",
   "metadata": {},
   "outputs": [
    {
     "name": "stdout",
     "output_type": "stream",
     "text": [
      "Hello Raj\n"
     ]
    }
   ],
   "source": [
    "# Printing without a new line\n",
    "print('Hello', end=\" \")\n",
    "print('Raj')"
   ]
  },
  {
   "cell_type": "code",
   "execution_count": 16,
   "id": "17b1df96",
   "metadata": {},
   "outputs": [
    {
     "name": "stdout",
     "output_type": "stream",
     "text": [
      "50\n"
     ]
    }
   ],
   "source": [
    "x=50\n",
    "print(x)"
   ]
  },
  {
   "cell_type": "code",
   "execution_count": 17,
   "id": "e354e048",
   "metadata": {},
   "outputs": [
    {
     "name": "stdout",
     "output_type": "stream",
     "text": [
      "20\n"
     ]
    }
   ],
   "source": [
    "# adding value to variable and printing\n",
    "y=10\n",
    "y=y+10\n",
    "print(y)"
   ]
  },
  {
   "cell_type": "code",
   "execution_count": 18,
   "id": "53ffb33d",
   "metadata": {},
   "outputs": [
    {
     "name": "stdout",
     "output_type": "stream",
     "text": [
      "15\n"
     ]
    }
   ],
   "source": [
    "# Subtract with variable\n",
    "y=y-5\n",
    "print(y)"
   ]
  },
  {
   "cell_type": "code",
   "execution_count": 19,
   "id": "ad39653b",
   "metadata": {},
   "outputs": [
    {
     "name": "stdout",
     "output_type": "stream",
     "text": [
      "100\n"
     ]
    }
   ],
   "source": [
    "x=10\n",
    "x=x*10\n",
    "print(x)"
   ]
  },
  {
   "cell_type": "code",
   "execution_count": 20,
   "id": "0cf5bd03",
   "metadata": {},
   "outputs": [
    {
     "name": "stdout",
     "output_type": "stream",
     "text": [
      "150\n"
     ]
    }
   ],
   "source": [
    "# Multiple Varibale\n",
    "a=100\n",
    "b=50\n",
    "print(a+b)"
   ]
  },
  {
   "cell_type": "code",
   "execution_count": 21,
   "id": "594a2729",
   "metadata": {},
   "outputs": [
    {
     "data": {
      "text/plain": [
       "50"
      ]
     },
     "execution_count": 21,
     "metadata": {},
     "output_type": "execute_result"
    }
   ],
   "source": [
    "a-b # subtracting"
   ]
  },
  {
   "cell_type": "code",
   "execution_count": 24,
   "id": "08aaabbe",
   "metadata": {},
   "outputs": [
    {
     "data": {
      "text/plain": [
       "200"
      ]
     },
     "execution_count": 24,
     "metadata": {},
     "output_type": "execute_result"
    }
   ],
   "source": [
    "a*b  #Multiplication"
   ]
  },
  {
   "cell_type": "code",
   "execution_count": 23,
   "id": "74903c09",
   "metadata": {},
   "outputs": [
    {
     "name": "stdout",
     "output_type": "stream",
     "text": [
      "10\n",
      "20\n",
      "30\n"
     ]
    }
   ],
   "source": [
    "a,b,c=10,20,30\n",
    "print(a)\n",
    "print(b)\n",
    "print(c)"
   ]
  },
  {
   "cell_type": "code",
   "execution_count": 25,
   "id": "dd7a128e",
   "metadata": {},
   "outputs": [],
   "source": [
    "# Datatypes\n",
    "#int\n",
    "#float\n",
    "#bool"
   ]
  },
  {
   "cell_type": "code",
   "execution_count": 29,
   "id": "3c041db6",
   "metadata": {},
   "outputs": [
    {
     "name": "stdout",
     "output_type": "stream",
     "text": [
      "100\n",
      "<class 'int'>\n"
     ]
    }
   ],
   "source": [
    "a=100\n",
    "print(a)\n",
    "print(type(a))"
   ]
  },
  {
   "cell_type": "code",
   "execution_count": 28,
   "id": "23723d55",
   "metadata": {},
   "outputs": [
    {
     "name": "stdout",
     "output_type": "stream",
     "text": [
      "10.5\n",
      "<class 'float'>\n"
     ]
    }
   ],
   "source": [
    "b=10.5\n",
    "print(b)\n",
    "print(type(b))"
   ]
  },
  {
   "cell_type": "markdown",
   "id": "bea7e6e1",
   "metadata": {},
   "source": [
    "# Operators"
   ]
  },
  {
   "cell_type": "code",
   "execution_count": 30,
   "id": "6875b01c",
   "metadata": {},
   "outputs": [
    {
     "name": "stdout",
     "output_type": "stream",
     "text": [
      "12\n",
      "8\n",
      "20\n",
      "0\n",
      "5\n",
      "100\n"
     ]
    }
   ],
   "source": [
    "# Airthmetic Operators\n",
    "a=10\n",
    "b=2\n",
    "print(a+b)\n",
    "print(a-b)\n",
    "print(a*b)\n",
    "print(a%b)\n",
    "print(a//b)\n",
    "print(a**b)"
   ]
  },
  {
   "cell_type": "code",
   "execution_count": 31,
   "id": "a824fe92",
   "metadata": {},
   "outputs": [
    {
     "name": "stdout",
     "output_type": "stream",
     "text": [
      "5.0\n"
     ]
    }
   ],
   "source": [
    "a=25\n",
    "print(a**0.5)"
   ]
  },
  {
   "cell_type": "code",
   "execution_count": 32,
   "id": "3571209b",
   "metadata": {},
   "outputs": [
    {
     "name": "stdout",
     "output_type": "stream",
     "text": [
      "13.5\n"
     ]
    }
   ],
   "source": [
    "print(17/2%2*3**3)"
   ]
  },
  {
   "cell_type": "code",
   "execution_count": 34,
   "id": "0ea32b20",
   "metadata": {},
   "outputs": [
    {
     "name": "stdout",
     "output_type": "stream",
     "text": [
      "False\n",
      "False\n",
      "True\n",
      "True\n",
      "False\n"
     ]
    }
   ],
   "source": [
    "# Relational Operator\n",
    "a=100\n",
    "b=50\n",
    "print(a==b)\n",
    "print(a<b)\n",
    "print(a>b)\n",
    "print(a>=b)\n",
    "print(a<=b)"
   ]
  },
  {
   "cell_type": "code",
   "execution_count": 35,
   "id": "6ffaa562",
   "metadata": {},
   "outputs": [
    {
     "name": "stdout",
     "output_type": "stream",
     "text": [
      "True\n",
      "True\n",
      "False\n"
     ]
    }
   ],
   "source": [
    "#Membership Operator\n",
    "s='python'\n",
    "print('y' in s)\n",
    "print('h' in s)\n",
    "print('z' in s)"
   ]
  },
  {
   "cell_type": "code",
   "execution_count": 36,
   "id": "a67ddad5",
   "metadata": {},
   "outputs": [
    {
     "name": "stdout",
     "output_type": "stream",
     "text": [
      "True\n"
     ]
    }
   ],
   "source": [
    "print('lo' in 'hello world')"
   ]
  },
  {
   "cell_type": "markdown",
   "id": "d0cb0cd6",
   "metadata": {},
   "source": [
    "# List"
   ]
  },
  {
   "cell_type": "code",
   "execution_count": 37,
   "id": "da6c13fe",
   "metadata": {},
   "outputs": [
    {
     "name": "stdout",
     "output_type": "stream",
     "text": [
      "['Mohan', 25, 6.5, 'Delhi']\n"
     ]
    }
   ],
   "source": [
    "list=['Mohan',25,6.5,'Delhi']\n",
    "print(list)"
   ]
  },
  {
   "cell_type": "code",
   "execution_count": 38,
   "id": "7f61e192",
   "metadata": {},
   "outputs": [
    {
     "name": "stdout",
     "output_type": "stream",
     "text": [
      "4\n"
     ]
    }
   ],
   "source": [
    "#length of list\n",
    "print(len(list))"
   ]
  },
  {
   "cell_type": "code",
   "execution_count": 39,
   "id": "85d7fc03",
   "metadata": {},
   "outputs": [
    {
     "data": {
      "text/plain": [
       "'Mohan'"
      ]
     },
     "execution_count": 39,
     "metadata": {},
     "output_type": "execute_result"
    }
   ],
   "source": [
    "list[0]"
   ]
  },
  {
   "cell_type": "code",
   "execution_count": 40,
   "id": "63ff1af7",
   "metadata": {},
   "outputs": [
    {
     "data": {
      "text/plain": [
       "25"
      ]
     },
     "execution_count": 40,
     "metadata": {},
     "output_type": "execute_result"
    }
   ],
   "source": [
    "list[1]"
   ]
  },
  {
   "cell_type": "code",
   "execution_count": 41,
   "id": "d9f837ed",
   "metadata": {},
   "outputs": [
    {
     "data": {
      "text/plain": [
       "6.5"
      ]
     },
     "execution_count": 41,
     "metadata": {},
     "output_type": "execute_result"
    }
   ],
   "source": [
    "list[2]"
   ]
  },
  {
   "cell_type": "code",
   "execution_count": 42,
   "id": "06a40de0",
   "metadata": {},
   "outputs": [
    {
     "data": {
      "text/plain": [
       "'Delhi'"
      ]
     },
     "execution_count": 42,
     "metadata": {},
     "output_type": "execute_result"
    }
   ],
   "source": [
    "list[3]"
   ]
  },
  {
   "cell_type": "code",
   "execution_count": 43,
   "id": "a9d6c748",
   "metadata": {},
   "outputs": [
    {
     "data": {
      "text/plain": [
       "'Delhi'"
      ]
     },
     "execution_count": 43,
     "metadata": {},
     "output_type": "execute_result"
    }
   ],
   "source": [
    "list[-1]"
   ]
  },
  {
   "cell_type": "code",
   "execution_count": 44,
   "id": "bcc44c11",
   "metadata": {},
   "outputs": [
    {
     "data": {
      "text/plain": [
       "6.5"
      ]
     },
     "execution_count": 44,
     "metadata": {},
     "output_type": "execute_result"
    }
   ],
   "source": [
    "list[-2]"
   ]
  },
  {
   "cell_type": "code",
   "execution_count": 45,
   "id": "7f01e635",
   "metadata": {},
   "outputs": [
    {
     "name": "stdout",
     "output_type": "stream",
     "text": [
      "[100, 25, 6.5, 'Delhi']\n"
     ]
    }
   ],
   "source": [
    "list[0]=100\n",
    "print(list)"
   ]
  },
  {
   "cell_type": "code",
   "execution_count": 46,
   "id": "64807267",
   "metadata": {},
   "outputs": [
    {
     "data": {
      "text/plain": [
       "[25, 6.5]"
      ]
     },
     "execution_count": 46,
     "metadata": {},
     "output_type": "execute_result"
    }
   ],
   "source": [
    "#Slicing- access the range of values from the list # list[start:end]\n",
    "list[1:3]"
   ]
  },
  {
   "cell_type": "code",
   "execution_count": 48,
   "id": "70c4f902",
   "metadata": {},
   "outputs": [
    {
     "data": {
      "text/plain": [
       "[100, 25]"
      ]
     },
     "execution_count": 48,
     "metadata": {},
     "output_type": "execute_result"
    }
   ],
   "source": [
    "list[0:2]"
   ]
  },
  {
   "cell_type": "code",
   "execution_count": 49,
   "id": "4c8e8e2a",
   "metadata": {},
   "outputs": [
    {
     "data": {
      "text/plain": [
       "[6.5, 'Delhi']"
      ]
     },
     "execution_count": 49,
     "metadata": {},
     "output_type": "execute_result"
    }
   ],
   "source": [
    "list[2:4]"
   ]
  },
  {
   "cell_type": "code",
   "execution_count": 50,
   "id": "05c4f8f4",
   "metadata": {},
   "outputs": [
    {
     "data": {
      "text/plain": [
       "[6.5, 'Delhi']"
      ]
     },
     "execution_count": 50,
     "metadata": {},
     "output_type": "execute_result"
    }
   ],
   "source": [
    "list[2:]"
   ]
  },
  {
   "cell_type": "code",
   "execution_count": 55,
   "id": "00d2ca4c",
   "metadata": {},
   "outputs": [
    {
     "name": "stdout",
     "output_type": "stream",
     "text": [
      "[4, 'Delhi', 6.5, 25, 100]\n"
     ]
    }
   ],
   "source": [
    "#reversing the list\n",
    "print(list[::-1])"
   ]
  },
  {
   "cell_type": "code",
   "execution_count": 52,
   "id": "273f4d1c",
   "metadata": {},
   "outputs": [],
   "source": [
    "list.append(4)"
   ]
  },
  {
   "cell_type": "code",
   "execution_count": 53,
   "id": "a22f31c4",
   "metadata": {},
   "outputs": [
    {
     "name": "stdout",
     "output_type": "stream",
     "text": [
      "[100, 25, 6.5, 'Delhi', 4]\n"
     ]
    }
   ],
   "source": [
    "print(list)"
   ]
  },
  {
   "cell_type": "code",
   "execution_count": 56,
   "id": "2a1a94f5",
   "metadata": {},
   "outputs": [],
   "source": [
    "list.extend([5,6,7])"
   ]
  },
  {
   "cell_type": "code",
   "execution_count": 58,
   "id": "52e7765a",
   "metadata": {},
   "outputs": [
    {
     "name": "stdout",
     "output_type": "stream",
     "text": [
      "[100, 25, 6.5, 'Delhi', 4, 5, 6, 7]\n"
     ]
    }
   ],
   "source": [
    "print(list)"
   ]
  },
  {
   "cell_type": "code",
   "execution_count": 59,
   "id": "4c3e3fda",
   "metadata": {},
   "outputs": [
    {
     "name": "stdout",
     "output_type": "stream",
     "text": [
      "[100, 'Raju', 25, 6.5, 'Delhi', 4, 5, 6, 7]\n"
     ]
    }
   ],
   "source": [
    "list.insert(1,'Raju')\n",
    "print(list)"
   ]
  },
  {
   "cell_type": "code",
   "execution_count": 60,
   "id": "528ef527",
   "metadata": {},
   "outputs": [],
   "source": [
    "list.remove('Raju')"
   ]
  },
  {
   "cell_type": "code",
   "execution_count": 61,
   "id": "1a6e5e5f",
   "metadata": {},
   "outputs": [
    {
     "name": "stdout",
     "output_type": "stream",
     "text": [
      "[100, 25, 6.5, 'Delhi', 4, 5, 6, 7]\n"
     ]
    }
   ],
   "source": [
    "print(list)"
   ]
  },
  {
   "cell_type": "code",
   "execution_count": 70,
   "id": "124018f7",
   "metadata": {},
   "outputs": [],
   "source": [
    "list.clear()"
   ]
  },
  {
   "cell_type": "code",
   "execution_count": 64,
   "id": "9318079e",
   "metadata": {},
   "outputs": [
    {
     "name": "stdout",
     "output_type": "stream",
     "text": [
      "[]\n"
     ]
    }
   ],
   "source": [
    "print(list)"
   ]
  },
  {
   "cell_type": "markdown",
   "id": "dd5f7653-7e6b-4a9b-8bf1-49bb9c0bdb63",
   "metadata": {},
   "source": [
    "# Tuples"
   ]
  },
  {
   "cell_type": "code",
   "execution_count": 4,
   "id": "82504301-2cd8-44c9-a008-ce3974a5ab85",
   "metadata": {},
   "outputs": [
    {
     "name": "stdout",
     "output_type": "stream",
     "text": [
      "('street', 'sagar', 254)\n"
     ]
    }
   ],
   "source": [
    "tup=('street','sagar',254)\n",
    "print(tup)"
   ]
  },
  {
   "cell_type": "code",
   "execution_count": 5,
   "id": "ac315d0d-d3ed-418a-9ab5-16843f0cd504",
   "metadata": {},
   "outputs": [
    {
     "data": {
      "text/plain": [
       "tuple"
      ]
     },
     "execution_count": 5,
     "metadata": {},
     "output_type": "execute_result"
    }
   ],
   "source": [
    "type(tup)"
   ]
  },
  {
   "cell_type": "code",
   "execution_count": 7,
   "id": "716a6c69-f7d8-4336-bee3-82f12eef5ebb",
   "metadata": {},
   "outputs": [
    {
     "name": "stdout",
     "output_type": "stream",
     "text": [
      "street\n"
     ]
    }
   ],
   "source": [
    "print(tup[0])"
   ]
  },
  {
   "cell_type": "code",
   "execution_count": 8,
   "id": "cec612d6-ee0a-41f8-a739-1b2b0c49ff68",
   "metadata": {},
   "outputs": [
    {
     "name": "stdout",
     "output_type": "stream",
     "text": [
      "sagar\n"
     ]
    }
   ],
   "source": [
    "print(tup[1])"
   ]
  },
  {
   "cell_type": "code",
   "execution_count": 9,
   "id": "f73158b0-e6b7-4c7c-a5d3-a504c6dbbfc9",
   "metadata": {},
   "outputs": [
    {
     "name": "stdout",
     "output_type": "stream",
     "text": [
      "('sagar', 254)\n"
     ]
    }
   ],
   "source": [
    "# Slicng with tuple\n",
    "print(tup[1:])"
   ]
  },
  {
   "cell_type": "code",
   "execution_count": 10,
   "id": "556be711-ba91-4089-9a49-49947854c9b0",
   "metadata": {},
   "outputs": [],
   "source": [
    "#deleting tuple\n",
    "del(tup)"
   ]
  },
  {
   "cell_type": "code",
   "execution_count": 11,
   "id": "9afb8daa-814e-467c-8789-0f160a06e574",
   "metadata": {},
   "outputs": [
    {
     "ename": "NameError",
     "evalue": "name 'tup' is not defined",
     "output_type": "error",
     "traceback": [
      "\u001b[1;31m---------------------------------------------------------------------------\u001b[0m",
      "\u001b[1;31mNameError\u001b[0m                                 Traceback (most recent call last)",
      "Cell \u001b[1;32mIn[11], line 1\u001b[0m\n\u001b[1;32m----> 1\u001b[0m \u001b[38;5;28mprint\u001b[39m(\u001b[43mtup\u001b[49m)\n",
      "\u001b[1;31mNameError\u001b[0m: name 'tup' is not defined"
     ]
    }
   ],
   "source": [
    "print(tup)"
   ]
  },
  {
   "cell_type": "code",
   "execution_count": 12,
   "id": "9d57dea5-8c23-44d2-9f85-af0498afcb11",
   "metadata": {},
   "outputs": [
    {
     "name": "stdout",
     "output_type": "stream",
     "text": [
      "5\n"
     ]
    }
   ],
   "source": [
    "x=(3,1,2,4,5)\n",
    "print(max(x))   # min, sum, len"
   ]
  },
  {
   "cell_type": "code",
   "execution_count": 21,
   "id": "5c39577c-e112-4a63-b17f-3623804492e1",
   "metadata": {},
   "outputs": [
    {
     "name": "stdout",
     "output_type": "stream",
     "text": [
      "(3, 1, 2, 4, 5)\n",
      "[1, 2, 3, 4, 5]\n"
     ]
    }
   ],
   "source": [
    "print(x)\n",
    "y=sorted(x)\n",
    "print(y)"
   ]
  },
  {
   "cell_type": "code",
   "execution_count": 19,
   "id": "62e3c741-f24a-4dc7-ac08-04940fec816e",
   "metadata": {},
   "outputs": [
    {
     "name": "stdout",
     "output_type": "stream",
     "text": [
      "(1, 2, 3, 4, 5)\n"
     ]
    }
   ],
   "source": [
    "tup=tuple(y)\n",
    "print(tup)"
   ]
  },
  {
   "cell_type": "markdown",
   "id": "b127ed29-b5ac-4569-8cac-c822c9e1d93d",
   "metadata": {},
   "source": [
    "# Set"
   ]
  },
  {
   "cell_type": "code",
   "execution_count": 23,
   "id": "80bea493-ca1d-472f-8736-04cff91f4fd7",
   "metadata": {},
   "outputs": [],
   "source": [
    "# {}"
   ]
  },
  {
   "cell_type": "code",
   "execution_count": 25,
   "id": "b3c4b2d3-ed72-4917-bde4-ccc03ddc9d3e",
   "metadata": {},
   "outputs": [
    {
     "name": "stdout",
     "output_type": "stream",
     "text": [
      "{1, 2, 3, 4, 5}\n"
     ]
    }
   ],
   "source": [
    "a={1,2,3,4,5}\n",
    "print(a)"
   ]
  },
  {
   "cell_type": "code",
   "execution_count": 26,
   "id": "3318ef55-4dbb-4477-b605-cb9ede550080",
   "metadata": {},
   "outputs": [
    {
     "data": {
      "text/plain": [
       "set"
      ]
     },
     "execution_count": 26,
     "metadata": {},
     "output_type": "execute_result"
    }
   ],
   "source": [
    "type(a)"
   ]
  },
  {
   "cell_type": "code",
   "execution_count": 27,
   "id": "2b17da12-5f99-4e0e-8472-c576fb657ae7",
   "metadata": {},
   "outputs": [
    {
     "name": "stdout",
     "output_type": "stream",
     "text": [
      "{1, 2, 3, 4, 5, 6}\n"
     ]
    }
   ],
   "source": [
    "a.add(6)\n",
    "print(a)"
   ]
  },
  {
   "cell_type": "code",
   "execution_count": 30,
   "id": "aaebaa41-5c60-4c5c-bd0a-ce4d24e9bf4e",
   "metadata": {},
   "outputs": [
    {
     "name": "stdout",
     "output_type": "stream",
     "text": [
      "{1, 2, 3, 4}\n"
     ]
    }
   ],
   "source": [
    "a={1,2,3,4,5}\n",
    "a.remove(5)\n",
    "print(a)"
   ]
  },
  {
   "cell_type": "code",
   "execution_count": 31,
   "id": "04802f95-bdbc-4271-b21c-dbe513bc22f9",
   "metadata": {},
   "outputs": [
    {
     "data": {
      "text/plain": [
       "{1}"
      ]
     },
     "execution_count": 31,
     "metadata": {},
     "output_type": "execute_result"
    }
   ],
   "source": [
    "set1={1,2,3}\n",
    "set2={2,3,4}\n",
    "set1-set2"
   ]
  },
  {
   "cell_type": "code",
   "execution_count": 32,
   "id": "4c6fc421-d82f-45a8-b8fa-213c4b17d2ca",
   "metadata": {},
   "outputs": [
    {
     "name": "stdout",
     "output_type": "stream",
     "text": [
      "{1, 2, 3}\n"
     ]
    }
   ],
   "source": [
    "print(set1)"
   ]
  },
  {
   "cell_type": "code",
   "execution_count": 33,
   "id": "ddccc131-6bcc-41de-9011-b319fbe353e7",
   "metadata": {},
   "outputs": [],
   "source": [
    "set1.clear()"
   ]
  },
  {
   "cell_type": "code",
   "execution_count": 34,
   "id": "1f699e4d-5811-4382-912f-4fefd6b7065c",
   "metadata": {},
   "outputs": [
    {
     "name": "stdout",
     "output_type": "stream",
     "text": [
      "set()\n"
     ]
    }
   ],
   "source": [
    "print(set1)"
   ]
  },
  {
   "cell_type": "markdown",
   "id": "4773c0dd-d33c-4e6f-ad83-4e8bf5589853",
   "metadata": {},
   "source": [
    "# Dictionary"
   ]
  },
  {
   "cell_type": "code",
   "execution_count": 35,
   "id": "88dbdfe5-afc0-4863-9387-5165089ffe23",
   "metadata": {},
   "outputs": [
    {
     "data": {
      "text/plain": [
       "{'name': 'Raju', 'age': 30}"
      ]
     },
     "execution_count": 35,
     "metadata": {},
     "output_type": "execute_result"
    }
   ],
   "source": [
    "d={'name': 'Raju', 'age':30}\n",
    "d"
   ]
  },
  {
   "cell_type": "code",
   "execution_count": 36,
   "id": "f5959c2b-0164-4ea6-a23b-bf45235a12d4",
   "metadata": {},
   "outputs": [
    {
     "data": {
      "text/plain": [
       "dict"
      ]
     },
     "execution_count": 36,
     "metadata": {},
     "output_type": "execute_result"
    }
   ],
   "source": [
    "type(d)"
   ]
  },
  {
   "cell_type": "code",
   "execution_count": 43,
   "id": "38bbe6a5-d74e-48bd-9b71-9077b62177e0",
   "metadata": {},
   "outputs": [
    {
     "name": "stdout",
     "output_type": "stream",
     "text": [
      "Raju\n"
     ]
    }
   ],
   "source": [
    "print(d['name'])\n"
   ]
  },
  {
   "cell_type": "code",
   "execution_count": 41,
   "id": "0bf4d500-87ad-4d5b-b636-f6b2d2c51eec",
   "metadata": {},
   "outputs": [
    {
     "name": "stdout",
     "output_type": "stream",
     "text": [
      "30\n"
     ]
    }
   ],
   "source": [
    "print(d['age'])"
   ]
  },
  {
   "cell_type": "code",
   "execution_count": 44,
   "id": "e0f1ba4e-2b67-429c-b031-bb8c87145ca4",
   "metadata": {},
   "outputs": [
    {
     "name": "stdout",
     "output_type": "stream",
     "text": [
      "{'name': 'Raju', 'age': 40}\n"
     ]
    }
   ],
   "source": [
    "#update dictionary\n",
    "d['age']=40\n",
    "print(d)"
   ]
  },
  {
   "cell_type": "code",
   "execution_count": 47,
   "id": "fcc4d2b3-6fd9-4a54-a877-48eaee3f6cdf",
   "metadata": {},
   "outputs": [
    {
     "name": "stdout",
     "output_type": "stream",
     "text": [
      "{'name': 'Raju', 'Exp': 40}\n"
     ]
    }
   ],
   "source": [
    "d['Exp']=d.pop('age')\n",
    "print(d)"
   ]
  },
  {
   "cell_type": "code",
   "execution_count": 49,
   "id": "d4993067-190f-4006-aa57-c6aeacb60da0",
   "metadata": {},
   "outputs": [
    {
     "data": {
      "text/plain": [
       "dict_items([('name', 'Raju'), ('Exp', 40)])"
      ]
     },
     "execution_count": 49,
     "metadata": {},
     "output_type": "execute_result"
    }
   ],
   "source": [
    "d.items()"
   ]
  },
  {
   "cell_type": "code",
   "execution_count": 58,
   "id": "15342fe0-0c54-4e26-af09-c446fb731521",
   "metadata": {},
   "outputs": [
    {
     "data": {
      "text/plain": [
       "dict_keys(['name', 'Exp'])"
      ]
     },
     "execution_count": 58,
     "metadata": {},
     "output_type": "execute_result"
    }
   ],
   "source": [
    "d.keys()"
   ]
  },
  {
   "cell_type": "code",
   "execution_count": 51,
   "id": "6ddd5459-b509-467e-aba0-0857ddc1972f",
   "metadata": {},
   "outputs": [
    {
     "data": {
      "text/plain": [
       "dict_values(['Raju', 40])"
      ]
     },
     "execution_count": 51,
     "metadata": {},
     "output_type": "execute_result"
    }
   ],
   "source": [
    "d.values()"
   ]
  },
  {
   "cell_type": "code",
   "execution_count": 54,
   "id": "9b492825-e61b-4f48-ad77-7dd4e78ab135",
   "metadata": {},
   "outputs": [
    {
     "name": "stdout",
     "output_type": "stream",
     "text": [
      "{'b': 2, 'c': 3}\n"
     ]
    }
   ],
   "source": [
    "dict={'a':1,'b':2,'c':3}\n",
    "dict.pop('a')\n",
    "print(dict)"
   ]
  },
  {
   "cell_type": "code",
   "execution_count": 55,
   "id": "78b87c19-1c55-4728-b1c0-bac53ef3ce88",
   "metadata": {},
   "outputs": [
    {
     "data": {
      "text/plain": [
       "2"
      ]
     },
     "execution_count": 55,
     "metadata": {},
     "output_type": "execute_result"
    }
   ],
   "source": [
    "len(dict)"
   ]
  },
  {
   "cell_type": "code",
   "execution_count": 56,
   "id": "b28a709b-3d0d-4321-b112-c9c143325273",
   "metadata": {},
   "outputs": [
    {
     "name": "stdout",
     "output_type": "stream",
     "text": [
      "{'b': 2, 'c': 3, 'd': 4, 'e': 5}\n"
     ]
    }
   ],
   "source": [
    "dict['d']=4\n",
    "dict['e']=5\n",
    "print(dict)"
   ]
  },
  {
   "cell_type": "markdown",
   "id": "c65ae8d4-a629-44b2-a5b3-21f1e5477354",
   "metadata": {},
   "source": [
    "# Statement"
   ]
  },
  {
   "cell_type": "code",
   "execution_count": null,
   "id": "466d76ec-d18c-43a3-8dc9-9d0b525dda19",
   "metadata": {},
   "outputs": [],
   "source": [
    "#if\n",
    "#if else\n",
    "#elif statement"
   ]
  },
  {
   "cell_type": "code",
   "execution_count": 61,
   "id": "1a9523bc-19b6-4be7-89c6-04c65c940f50",
   "metadata": {},
   "outputs": [
    {
     "name": "stdin",
     "output_type": "stream",
     "text": [
      "Enter a number 10\n"
     ]
    },
    {
     "name": "stdout",
     "output_type": "stream",
     "text": [
      "10\n"
     ]
    },
    {
     "data": {
      "text/plain": [
       "int"
      ]
     },
     "execution_count": 61,
     "metadata": {},
     "output_type": "execute_result"
    }
   ],
   "source": [
    "x=int(input('Enter a number'))\n",
    "print(x)\n",
    "type(x)\n"
   ]
  },
  {
   "cell_type": "code",
   "execution_count": 63,
   "id": "b01b9bba-0b70-453b-b8f3-0b52984aad21",
   "metadata": {},
   "outputs": [
    {
     "name": "stdin",
     "output_type": "stream",
     "text": [
      "Enter a number 50\n"
     ]
    }
   ],
   "source": [
    "#if \n",
    "x=int(input('Enter a number'))\n",
    "if x==100:\n",
    "    print('You Entered my favourite No')"
   ]
  },
  {
   "cell_type": "code",
   "execution_count": 66,
   "id": "18701ad0-429d-4dc3-bc51-73607f25837b",
   "metadata": {},
   "outputs": [
    {
     "name": "stdin",
     "output_type": "stream",
     "text": [
      "Enter a number 25\n"
     ]
    },
    {
     "name": "stdout",
     "output_type": "stream",
     "text": [
      "This is not my favourite No\n"
     ]
    }
   ],
   "source": [
    "#ifelse\n",
    "x=int(input('Enter a number'))\n",
    "if x==100:\n",
    "    print('You Entered my favourite No')\n",
    "else:\n",
    "    print('This is not my favourite No')"
   ]
  },
  {
   "cell_type": "code",
   "execution_count": 68,
   "id": "59a4f268-ee1b-4bac-824d-5052fbf9ff2a",
   "metadata": {},
   "outputs": [
    {
     "name": "stdin",
     "output_type": "stream",
     "text": [
      "Enter the value of a 10\n",
      "Enter the value of b 5\n"
     ]
    },
    {
     "name": "stdout",
     "output_type": "stream",
     "text": [
      "a is greater\n"
     ]
    }
   ],
   "source": [
    "#elif Statement\n",
    "a=int(input('Enter the value of a'))\n",
    "b=int(input('Enter the value of b'))\n",
    "\n",
    "if a<b:\n",
    "    print('b is greater')\n",
    "elif a==b:\n",
    "    print('a is equal to b')\n",
    "else:\n",
    "    print('a is greater')\n",
    "\n"
   ]
  },
  {
   "cell_type": "code",
   "execution_count": 70,
   "id": "7ffbe279-ccc1-4d86-aec4-b0e9936cacab",
   "metadata": {},
   "outputs": [
    {
     "name": "stdin",
     "output_type": "stream",
     "text": [
      "Enter a number 15\n"
     ]
    },
    {
     "name": "stdout",
     "output_type": "stream",
     "text": [
      "x is greater than 5\n",
      "x is odd\n"
     ]
    }
   ],
   "source": [
    "# nested if else\n",
    "x=int(input('Enter a number'))\n",
    "if x>5:\n",
    "    print('x is greater than 5')\n",
    "    if x % 2==0:\n",
    "        print('x is even')\n",
    "    else:\n",
    "        print('x is odd')\n",
    "else:\n",
    "    print('x is less than or equal to 5')"
   ]
  },
  {
   "cell_type": "markdown",
   "id": "acdc61ff-8374-49df-9ccd-690ef728cb80",
   "metadata": {},
   "source": [
    "# Loops"
   ]
  },
  {
   "cell_type": "code",
   "execution_count": 71,
   "id": "b333ca33-5820-4970-aeb6-5c5e21a11587",
   "metadata": {},
   "outputs": [],
   "source": [
    "# for and while loop"
   ]
  },
  {
   "cell_type": "code",
   "execution_count": 72,
   "id": "7e285b6e-d0e0-421c-806d-98d97e2b9616",
   "metadata": {},
   "outputs": [
    {
     "name": "stdout",
     "output_type": "stream",
     "text": [
      "0\n",
      "1\n",
      "2\n",
      "3\n",
      "4\n"
     ]
    }
   ],
   "source": [
    "for i in range(5):\n",
    "    print(i)\n",
    "    "
   ]
  },
  {
   "cell_type": "code",
   "execution_count": 73,
   "id": "12c85ddc-f65b-4be9-98c0-4f126d5c154d",
   "metadata": {},
   "outputs": [
    {
     "name": "stdout",
     "output_type": "stream",
     "text": [
      "0 1 2 3 4 "
     ]
    }
   ],
   "source": [
    "for i in range(5):\n",
    "    print(i, end=\" \")"
   ]
  },
  {
   "cell_type": "code",
   "execution_count": 74,
   "id": "02eced57-0161-40ef-9536-a710b211d3c5",
   "metadata": {},
   "outputs": [
    {
     "name": "stdout",
     "output_type": "stream",
     "text": [
      "BMW\n",
      "Audi\n",
      "Mercedez\n",
      "Volswagen\n",
      "Skoda\n"
     ]
    }
   ],
   "source": [
    "cars=['BMW','Audi','Mercedez','Volswagen','Skoda']\n",
    "for i in cars:\n",
    "    print(i)"
   ]
  },
  {
   "cell_type": "code",
   "execution_count": 75,
   "id": "28323d4d-f19b-4224-9d51-399883ca02b9",
   "metadata": {},
   "outputs": [
    {
     "name": "stdout",
     "output_type": "stream",
     "text": [
      "10\n",
      "11\n",
      "12\n",
      "13\n",
      "14\n",
      "15\n",
      "16\n",
      "17\n",
      "18\n",
      "19\n",
      "20\n",
      "21\n",
      "22\n",
      "23\n",
      "24\n"
     ]
    }
   ],
   "source": [
    "for i in range(10,25):\n",
    "    print(i)"
   ]
  },
  {
   "cell_type": "code",
   "execution_count": null,
   "id": "c4101365-967d-4959-ad60-f2d33ba701ec",
   "metadata": {},
   "outputs": [],
   "source": [
    "# While\n",
    "#while condition:\n",
    "    co"
   ]
  },
  {
   "cell_type": "code",
   "execution_count": 1,
   "id": "cd874115-6ecd-4428-8300-7f0f772b0225",
   "metadata": {},
   "outputs": [
    {
     "name": "stdout",
     "output_type": "stream",
     "text": [
      "0\n",
      "1\n",
      "2\n",
      "3\n",
      "4\n",
      "5\n"
     ]
    }
   ],
   "source": [
    "i=0\n",
    "\n",
    "while i<=5:\n",
    "    print(i)\n",
    "    i=i+1"
   ]
  },
  {
   "cell_type": "code",
   "execution_count": 2,
   "id": "f6618ce8-2692-4dd9-9bd3-e58b63f341e7",
   "metadata": {},
   "outputs": [
    {
     "name": "stdout",
     "output_type": "stream",
     "text": [
      "1\n",
      "2\n",
      "3\n",
      "4\n",
      "5\n",
      "7\n",
      "8\n"
     ]
    }
   ],
   "source": [
    "# While loop with Continue \n",
    "i=0\n",
    "\n",
    "while i<=7:\n",
    "    i+=1\n",
    "    if i==6:\n",
    "        continue\n",
    "    print(i)"
   ]
  },
  {
   "cell_type": "code",
   "execution_count": 3,
   "id": "e1085f71-b1ae-4712-9e0a-d056fecb5831",
   "metadata": {},
   "outputs": [
    {
     "name": "stdout",
     "output_type": "stream",
     "text": [
      "1\n",
      "2\n",
      "3\n"
     ]
    }
   ],
   "source": [
    "# While loop with break statement\n",
    "i=1\n",
    "\n",
    "while i<6:\n",
    "    print(i)\n",
    "    if i==3:\n",
    "        break\n",
    "    i+=1# i=i+1"
   ]
  },
  {
   "cell_type": "markdown",
   "id": "c40556d7-b496-4bcc-bc8b-19d1df663f14",
   "metadata": {},
   "source": [
    "# Functions"
   ]
  },
  {
   "cell_type": "code",
   "execution_count": null,
   "id": "74be776c-8fb8-4e3b-b66f-cb2319b45689",
   "metadata": {},
   "outputs": [],
   "source": [
    "#def function_name(parameter1, paramater2...):\n",
    "#    function Code"
   ]
  },
  {
   "cell_type": "code",
   "execution_count": 4,
   "id": "a8204add-188e-4bb9-9681-82e7d1da051d",
   "metadata": {},
   "outputs": [],
   "source": [
    "#declaring a function\n",
    "def func1():\n",
    "    print('Hello I am an function')\n",
    "    print('I am Ready')"
   ]
  },
  {
   "cell_type": "code",
   "execution_count": 5,
   "id": "1ff635c4-554e-43d6-8a6d-537751c08357",
   "metadata": {},
   "outputs": [
    {
     "name": "stdout",
     "output_type": "stream",
     "text": [
      "Hello I am an function\n",
      "I am Ready\n"
     ]
    }
   ],
   "source": [
    "# Calling the function\n",
    "func1()"
   ]
  },
  {
   "cell_type": "code",
   "execution_count": 6,
   "id": "2bd0126e-d95f-4e5a-b475-39fd31ef9436",
   "metadata": {},
   "outputs": [],
   "source": [
    "def func2(fname):\n",
    "    print('Good Evening ! Welcome to the Session ' + fname)"
   ]
  },
  {
   "cell_type": "code",
   "execution_count": 7,
   "id": "fb70c5ce-82d3-4c6a-98fb-f4f41382e466",
   "metadata": {},
   "outputs": [
    {
     "name": "stdout",
     "output_type": "stream",
     "text": [
      "Good Evening ! Welcome to the Session  Indra\n"
     ]
    }
   ],
   "source": [
    "func2(' Indra')"
   ]
  },
  {
   "cell_type": "code",
   "execution_count": 8,
   "id": "3d29ce43-2d1e-44ea-b37b-3dcba735e0f6",
   "metadata": {},
   "outputs": [],
   "source": [
    "def f3(a,b):\n",
    "    c=a+b\n",
    "    print(c)"
   ]
  },
  {
   "cell_type": "code",
   "execution_count": 9,
   "id": "22e83ac0-6bf2-46c4-8138-026b75667006",
   "metadata": {},
   "outputs": [
    {
     "name": "stdout",
     "output_type": "stream",
     "text": [
      "135\n"
     ]
    }
   ],
   "source": [
    "f3(100,35)"
   ]
  },
  {
   "cell_type": "code",
   "execution_count": null,
   "id": "63efdcb9-1e58-4767-9714-a01ecbf4c551",
   "metadata": {},
   "outputs": [],
   "source": [
    "# lambda Functions\n",
    "lambda arguments: expression"
   ]
  },
  {
   "cell_type": "code",
   "execution_count": 11,
   "id": "0f464822-3b3e-4715-996d-50228b362b7e",
   "metadata": {},
   "outputs": [
    {
     "name": "stdout",
     "output_type": "stream",
     "text": [
      "30\n"
     ]
    }
   ],
   "source": [
    "# add 10 to an argument a\n",
    "x=lambda a: a+10\n",
    "print(x(20))"
   ]
  },
  {
   "cell_type": "code",
   "execution_count": 13,
   "id": "e22d2990-489f-429b-a3d4-520be1c1b607",
   "metadata": {},
   "outputs": [
    {
     "name": "stdout",
     "output_type": "stream",
     "text": [
      "70\n"
     ]
    }
   ],
   "source": [
    "x=lambda a,b:a+b\n",
    "print(x(50,20))"
   ]
  },
  {
   "cell_type": "code",
   "execution_count": 14,
   "id": "a086b1fa-8bff-4e4b-84ab-4eb6bfada21d",
   "metadata": {},
   "outputs": [
    {
     "name": "stdout",
     "output_type": "stream",
     "text": [
      "90\n"
     ]
    }
   ],
   "source": [
    "x=lambda a,b,c:a+b+c\n",
    "print(x(20,30,40))"
   ]
  },
  {
   "cell_type": "code",
   "execution_count": 15,
   "id": "8a4b0bf2-5e41-4148-a9dc-1481b1174f9d",
   "metadata": {},
   "outputs": [
    {
     "name": "stdout",
     "output_type": "stream",
     "text": [
      "20\n"
     ]
    }
   ],
   "source": [
    "x=lambda a,b:a-b\n",
    "print(x(40,20))"
   ]
  },
  {
   "cell_type": "code",
   "execution_count": 16,
   "id": "824f8524-d94f-4664-89dd-5ad349131469",
   "metadata": {},
   "outputs": [
    {
     "name": "stdout",
     "output_type": "stream",
     "text": [
      "100\n"
     ]
    }
   ],
   "source": [
    "x=lambda a,b : a*b\n",
    "print(x(10,10))"
   ]
  },
  {
   "cell_type": "code",
   "execution_count": null,
   "id": "e709300e-1e8d-4196-ae07-fd68e11a12d1",
   "metadata": {},
   "outputs": [],
   "source": []
  }
 ],
 "metadata": {
  "kernelspec": {
   "display_name": "Python 3 (ipykernel)",
   "language": "python",
   "name": "python3"
  },
  "language_info": {
   "codemirror_mode": {
    "name": "ipython",
    "version": 3
   },
   "file_extension": ".py",
   "mimetype": "text/x-python",
   "name": "python",
   "nbconvert_exporter": "python",
   "pygments_lexer": "ipython3",
   "version": "3.12.1"
  }
 },
 "nbformat": 4,
 "nbformat_minor": 5
}
